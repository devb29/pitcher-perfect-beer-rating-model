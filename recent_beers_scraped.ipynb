{
 "cells": [
  {
   "cell_type": "code",
   "execution_count": 1,
   "id": "b53c172d",
   "metadata": {},
   "outputs": [],
   "source": [
    "import requests\n",
    "from bs4 import BeautifulSoup as bs\n",
    "import pandas as pd\n",
    "import time\n",
    "from selenium import webdriver\n",
    "from selenium.webdriver.chrome.service import Service\n",
    "from selenium.webdriver.common.by import By\n",
    "import csv"
   ]
  },
  {
   "cell_type": "markdown",
   "id": "073f8fc7",
   "metadata": {},
   "source": [
    "## Step 1\n",
    "Use list comprehension to produce a list of 100 URLs for most recent beers. There are 100 total pages of recent beers."
   ]
  },
  {
   "cell_type": "code",
   "execution_count": 2,
   "id": "9be872f4",
   "metadata": {
    "scrolled": true
   },
   "outputs": [
    {
     "data": {
      "text/plain": [
       "['https://www.ratebeer.com/beer-ratings/0/1/',\n",
       " 'https://www.ratebeer.com/beer-ratings/0/2/',\n",
       " 'https://www.ratebeer.com/beer-ratings/0/3/',\n",
       " 'https://www.ratebeer.com/beer-ratings/0/4/',\n",
       " 'https://www.ratebeer.com/beer-ratings/0/5/']"
      ]
     },
     "execution_count": 2,
     "metadata": {},
     "output_type": "execute_result"
    }
   ],
   "source": [
    "results_page_urls = [f'https://www.ratebeer.com/beer-ratings/0/{i}/' for i in range(1,101)]\n",
    "results_page_urls[:5]"
   ]
  },
  {
   "cell_type": "markdown",
   "id": "b45d314f",
   "metadata": {},
   "source": [
    "## Step 2\n",
    "Iterate over all pages and get href for each beer detail page."
   ]
  },
  {
   "cell_type": "code",
   "execution_count": 7,
   "id": "f7c8d8f5",
   "metadata": {
    "scrolled": true
   },
   "outputs": [
    {
     "name": "stdout",
     "output_type": "stream",
     "text": [
      "Oops! Received status code 500 for page https://www.ratebeer.com/beer-ratings/0/54/!\n"
     ]
    }
   ],
   "source": [
    "total_urls = []\n",
    "headers = {'User-Agent': 'Mozilla/5.0 (Windows NT 10.0; Win64; x64) AppleWebKit/537.36 (KHTML, like Gecko) Chrome/98.0.4758.82 Safari/537.36'}\n",
    "\n",
    "for url in results_page_urls:\n",
    "    response = requests.get(url, headers=headers)\n",
    "    status = response.status_code\n",
    "    if status == 200:\n",
    "        page = response.text\n",
    "        soup = bs(page)\n",
    "    else:\n",
    "        print(f\"Oops! Received status code {status} for page {url}!\")\n",
    "        continue\n",
    "\n",
    "    a_tags = soup.find_all('a', attrs={'style':'font-size:20px; font-weight:bold;'})\n",
    "    urls = [f\"https://www.ratebeer.com{a_tag.get('href')}\" for a_tag in a_tags]\n",
    "    \n",
    "    total_urls.extend(urls)\n",
    "    time.sleep(1)"
   ]
  },
  {
   "cell_type": "markdown",
   "id": "6f79dd33",
   "metadata": {},
   "source": [
    "## Step 3\n",
    "Use Selenium to visit each beer detail page to scrape field data."
   ]
  },
  {
   "cell_type": "code",
   "execution_count": 8,
   "id": "d6b45119",
   "metadata": {
    "scrolled": false
   },
   "outputs": [
    {
     "name": "stdout",
     "output_type": "stream",
     "text": [
      "Oops! ABV missing for page: https://www.ratebeer.com/beer/santa-clausthaler/18656/272845/\n",
      "Oops! Calories missing for page: https://www.ratebeer.com/beer/santa-clausthaler/18656/272845/\n",
      "Oops! ABV missing for page: https://www.ratebeer.com/beer/a-la-derive-boathouse-2/825125/229832/\n",
      "Oops! Calories missing for page: https://www.ratebeer.com/beer/a-la-derive-boathouse-2/825125/229832/\n",
      "Oops! ABV missing for page: https://www.ratebeer.com/beer/rrey-american-ipa/655051/128160/\n",
      "Oops! Calories missing for page: https://www.ratebeer.com/beer/rrey-american-ipa/655051/128160/\n",
      "Oops! ABV missing for page: https://www.ratebeer.com/beer/fayrouz-pineapple-egypt/990930/240051/\n",
      "Oops! Calories missing for page: https://www.ratebeer.com/beer/fayrouz-pineapple-egypt/990930/240051/\n",
      "Oops! ABV missing for page: https://www.ratebeer.com/beer/guinness-draught-00/869291/90466/\n",
      "Oops! Calories missing for page: https://www.ratebeer.com/beer/guinness-draught-00/869291/90466/\n",
      "Oops! ABV missing for page: https://www.ratebeer.com/beer/leffe-brune-bruin-00/860171/47786/\n",
      "Oops! Calories missing for page: https://www.ratebeer.com/beer/leffe-brune-bruin-00/860171/47786/\n",
      "Oops! ABV missing for page: https://www.ratebeer.com/beer/leffe-blonde-blond-00/697853/47786/\n",
      "Oops! Calories missing for page: https://www.ratebeer.com/beer/leffe-blonde-blond-00/697853/47786/\n",
      "Oops! ABV missing for page: https://www.ratebeer.com/beer/nogne-o-svart-hvit/818933/272845/\n",
      "Oops! Calories missing for page: https://www.ratebeer.com/beer/nogne-o-svart-hvit/818933/272845/\n",
      "Oops! ABV missing for page: https://www.ratebeer.com/beer/ecliptic-ligo-west-coast-ipa/990809/7125/\n",
      "Oops! Calories missing for page: https://www.ratebeer.com/beer/ecliptic-ligo-west-coast-ipa/990809/7125/\n"
     ]
    }
   ],
   "source": [
    "ser = Service(r\"C:\\Program Files\\chromedriver.exe\")\n",
    "driver = webdriver.Chrome(service=ser)\n",
    "\n",
    "csv_file = open('beer_data.csv', 'w', newline='', encoding='utf8')\n",
    "csv_writer = csv.writer(csv_file)\n",
    "csv_writer.writerow(['brewery', 'beer_name', 'overall_score', 'style_score', 'rating',\n",
    "                    'num_ratings', 'num_reviews', #'city', 'state_region', 'country',\n",
    "                    'location', 'abv_percent', 'beer_style', 'description', 'served_in_list',\n",
    "                    'cal_per_355_ml', 'date_added', 'url'])\n",
    "\n",
    "for url in total_urls:\n",
    "    driver.get(url)\n",
    "\n",
    "    beer_dict = {}\n",
    "\n",
    "    # Waiting for site to load before clicking \"Accept Cookies\"\n",
    "    time.sleep(1)\n",
    "\n",
    "    # Click \"Accept Cookies\" if popup exists\n",
    "    try:\n",
    "        cookies_btn = driver.find_element('xpath', '//button[@id=\"onetrust-accept-btn-handler\"]')\n",
    "        cookies_btn.click()\n",
    "    except:\n",
    "        pass\n",
    "\n",
    "    show_more = driver.find_element('xpath', '//button[@class=\"MuiButtonBase-root MuiButton-root MuiButton-text Button___StyledMaterialButton-FZwYh bGOCJz colorized__WrappedComponent-apsCh kAVjHC -ml-3 mt-3 MuiButton-textPrimary\"]')\n",
    "    show_more.click()\n",
    "\n",
    "    # Scrape brewery name\n",
    "    beer_dict['brewery'] = driver.find_element('xpath', '//a[@class=\"MuiTypography-root Text___StyledTypographyTypeless-bukSfn pzIrn colorized__WrappedComponent-hrwcZr liJcHu Anchor___StyledText-uWnSM eseQug MuiTypography-subtitle1\"]').text\n",
    "\n",
    "    # Scrape beer name\n",
    "    beer_dict['beer_name'] = driver.find_element('xpath', '//div[@class=\"MuiTypography-root Text___StyledTypographyTypeless-bukSfn pzIrn text-500 colorized__WrappedComponent-hrwcZr hwjOn mt-3 MuiTypography-h4\"]').text\n",
    "\n",
    "    # Scrape overall and style scores\n",
    "    try:\n",
    "        overall_score = driver.find_element('xpath', '//div[@class=\"BeerRatingsWidget___StyledDiv3-eOHJZv bulLND fa-c\"]/div[1]/div')\n",
    "        overall_score = int(overall_score.text)\n",
    "    except:\n",
    "        overall_score = None\n",
    "#         print(f\"Oops! Overall score missing for page: {url}\")\n",
    "\n",
    "    beer_dict['overall_score'] = overall_score\n",
    "\n",
    "    try:\n",
    "        style_score = driver.find_element('xpath', '//div[@class=\"BeerRatingsWidget___StyledDiv3-eOHJZv bulLND fa-c\"]/div[2]/div')\n",
    "        style_score = int(style_score.text)\n",
    "    except:\n",
    "        style_score = None\n",
    "#         print(f\"Oops! Style score missing for page: {url}\")\n",
    "\n",
    "    beer_dict['style_score'] = style_score\n",
    "\n",
    "    # Scrape rating\n",
    "    beer_dict['rating'] = float(driver.find_element('xpath', '//div[@class=\"MuiTypography-root Text___StyledTypographyTypeless-bukSfn pzIrn text-500 colorized__WrappedComponent-hrwcZr hwjOn mr-2 MuiTypography-body2\"]').text)\n",
    "\n",
    "    # Scrape number of ratings and reviews\n",
    "    num_ratings_reviews = driver.find_element('xpath', '//span[@class=\"MuiTypography-root Text___StyledTypographyTypeless-bukSfn kbrPIo colorized__WrappedComponent-hrwcZr gRvDpm mr-3 MuiTypography-caption\"]')\n",
    "\n",
    "    try:\n",
    "        num_ratings = int(num_ratings_reviews.text.split()[0].replace(',',''))\n",
    "    except:\n",
    "        num_ratings = None\n",
    "        print(f\"Oops! Number of ratings missing for page: {url}\")\n",
    "\n",
    "    beer_dict['num_ratings'] = num_ratings\n",
    "\n",
    "    try:\n",
    "        num_reviews = int(num_ratings_reviews.text.split()[2].replace(',',''))\n",
    "    except:\n",
    "        num_reviews = None\n",
    "        print(f\"Oops! Number of reviews missing for page: {url}\")\n",
    "\n",
    "    beer_dict['num_reviews'] = num_reviews\n",
    "\n",
    "    # Scrape loction of brewery (city, state/region, and country)\n",
    "    #beer_dict['location'] = driver.find_element('xpath', '//div[@class=\"BeerCard___StyledDiv2-ieYeaq eRqQUm mb-3\"]/div[@class=\"MuiTypography-root Text___StyledTypographyTypeless-bukSfn pzIrn colorized__WrappedComponent-hrwcZr hwjOn MuiTypography-body2\"]').text#.split(',')\n",
    "#     if len(location) == 3:\n",
    "#         beer_dict['city'] = location[0].strip().split(' ')[1]\n",
    "#         beer_dict['state_region'] = location[1].strip()\n",
    "#         beer_dict['country'] = location[2].strip()\n",
    "#     elif len(location) == 2:\n",
    "#         beer_dict['city'] = None\n",
    "#         beer_dict['state_region'] = location[0].strip()\n",
    "#         beer_dict['country'] = location[1].strip()\n",
    "#     elif len(location) == 1:\n",
    "#         beer_dict['city'] = None\n",
    "#         beer_dict['state_region'] = None\n",
    "#         beer_dict['country'] = location[0].strip()\n",
    "#     else:\n",
    "#         beer_dict['city'] = None\n",
    "#         beer_dict['state_region'] = None\n",
    "#         beer_dict['country'] = None\n",
    "#         print(f'Oops! Missing location for page: {url}')\n",
    "\n",
    "    try:\n",
    "        location = driver.find_element('xpath', '//div[@class=\"BeerCard___StyledDiv2-ieYeaq eRqQUm mb-3\"]/div[@class=\"MuiTypography-root Text___StyledTypographyTypeless-bukSfn pzIrn colorized__WrappedComponent-hrwcZr hwjOn MuiTypography-body2\"]').text#.split(',')\n",
    "    except:\n",
    "        location = None\n",
    "        print(f\"Oops! location missing for page: {url}\")\n",
    "        \n",
    "    beer_dict['location'] = location\n",
    "        \n",
    "    # Scrape alcohol by volume percent\n",
    "    try:\n",
    "        abv_percent = float(driver.find_element('xpath', '//div[@class=\"MuiTypography-root Text___StyledTypographyTypeless-bukSfn kbrPIo colorized__WrappedComponent-hrwcZr bRPQdN MuiTypography-caption\"]').text.replace('%',''))\n",
    "    except:\n",
    "        abv_percent = None\n",
    "        print(f\"Oops! ABV missing for page: {url}\")\n",
    "\n",
    "    beer_dict['abv_percent'] = abv_percent\n",
    "\n",
    "    # Scrape beer style\n",
    "    beer_dict['beer_style'] = driver.find_element('xpath', '//div[@class=\"fj-s\"]/a[@class=\"MuiTypography-root Text___StyledTypographyTypeless-bukSfn kbrPIo colorized__WrappedComponent-hrwcZr liJcHu Anchor___StyledText-uWnSM eseQug MuiTypography-caption\"]').text\n",
    "\n",
    "    # Scrape beer description\n",
    "    try:\n",
    "        description = driver.find_element('xpath', '//div[@class=\"MuiTypography-root Text___StyledTypographyTypeless-bukSfn pzIrn colorized__WrappedComponent-hrwcZr hwjOn pre-wrap MuiTypography-body2\"]').text\n",
    "    except:\n",
    "        description = None\n",
    "        print(f\"Oops! Description missing for page: {url}\")\n",
    "\n",
    "    beer_dict['description'] = description\n",
    "\n",
    "    # Scrape type of serving glass\n",
    "    served_in = driver.find_elements('xpath', '//span[@class=\"MuiTypography-root Text___StyledTypographyTypeless-bukSfn kbrPIo colorized__WrappedComponent-hrwcZr hwjOn Tag___StyledText-kDDuQR kZyKXJ cursor-pointer mr-3 my-2 MuiTypography-caption\"]')\n",
    "    beer_dict['served_in_list'] = [element.text for element in served_in]\n",
    "\n",
    "    # Scrape calories per 355 ml\n",
    "    try:\n",
    "        cal_per_355_ml = int(driver.find_element('xpath', '//div[@class=\"MuiTypography-root Text___StyledTypographyTypeless-bukSfn pzIrn colorized__WrappedComponent-hrwcZr hwjOn LabelInfo___StyledText-eCbuRi hJPZRX fa-c MuiTypography-body2\"]').text.split()[0])\n",
    "    except:\n",
    "        cal_per_355_ml = None\n",
    "        print(f\"Oops! Calories missing for page: {url}\")\n",
    "    \n",
    "    beer_dict['cal_per_355_ml'] = cal_per_355_ml\n",
    "        \n",
    "    # Expanding \"More statistics\"\n",
    "    more_stats = driver.find_element('xpath', '//div[@class=\"MuiTypography-root Text___StyledTypographyTypeless-bukSfn dLSnYi colorized__WrappedComponent-hrwcZr gRvDpm cursor-pointer MuiTypography-caption\"]')\n",
    "    more_stats.click()\n",
    "\n",
    "    # Scrape date added to website from \"More statistics\"\n",
    "    beer_dict['date_added'] = driver.find_element('xpath', '//div[@class=\"p-4\"]/div[@class=\"fj-sb mb-2\"]/div[2]').text\n",
    "\n",
    "    beer_dict['url'] = url\n",
    "\n",
    "    csv_writer.writerow(beer_dict.values())\n",
    "\n",
    "    time.sleep(1)\n",
    "\n",
    "csv_file.close()\n",
    "driver.close()"
   ]
  },
  {
   "cell_type": "code",
   "execution_count": null,
   "id": "a24a4309",
   "metadata": {},
   "outputs": [],
   "source": []
  }
 ],
 "metadata": {
  "kernelspec": {
   "display_name": "Python 3",
   "language": "python",
   "name": "python3"
  },
  "language_info": {
   "codemirror_mode": {
    "name": "ipython",
    "version": 3
   },
   "file_extension": ".py",
   "mimetype": "text/x-python",
   "name": "python",
   "nbconvert_exporter": "python",
   "pygments_lexer": "ipython3",
   "version": "3.8.8"
  }
 },
 "nbformat": 4,
 "nbformat_minor": 5
}
